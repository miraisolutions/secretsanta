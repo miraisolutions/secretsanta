{
 "cells": [
  {
   "cell_type": "markdown",
   "metadata": {},
   "source": [
    "# SecretSanta"
   ]
  },
  {
   "cell_type": "markdown",
   "metadata": {},
   "source": [
    "Import the relevant `secretsanta` dependencies"
   ]
  },
  {
   "cell_type": "code",
   "execution_count": null,
   "metadata": {},
   "outputs": [],
   "source": [
    "import secretsanta.main.funs as santa\n",
    "import getpass"
   ]
  },
  {
   "cell_type": "markdown",
   "metadata": {},
   "source": [
    "Define wheter this is a dry-run / demo or the actual final assignment:"
   ]
  },
  {
   "cell_type": "code",
   "execution_count": null,
   "metadata": {},
   "outputs": [],
   "source": [
    "dry_run = True"
   ]
  },
  {
   "cell_type": "markdown",
   "metadata": {},
   "source": [
    "Define a dictionary of names and email addresses of participants to Secret Santa"
   ]
  },
  {
   "cell_type": "code",
   "execution_count": null,
   "metadata": {},
   "outputs": [],
   "source": [
    "participants = {\n",
    "    'Riccardo': 'riccardo.porreca',\n",
    "#    'Riki': 'riccardo.porreca',\n",
    "    'Roland': 'roland.schmid',\n",
    "    'Nikki': 'nicoletta.farabullini',\n",
    "}\n",
    "for name in participants.keys() :\n",
    "    participants[name] += '@mirai-solutions.com'\n",
    "print(participants)"
   ]
  },
  {
   "cell_type": "markdown",
   "metadata": {},
   "source": [
    "Let Santa make random assignments\n",
    "> Oh Oh Oh!"
   ]
  },
  {
   "cell_type": "code",
   "execution_count": null,
   "metadata": {},
   "outputs": [],
   "source": [
    "# `seed` fixed for reproducibility in dry-run, should be fully random otherwise\n",
    "assignments = santa.make_santa_dict(participants, seed = 666 if dry_run else None)\n",
    "# keep it secret if not a dry-run\n",
    "if dry_run:\n",
    "    print(assignments)"
   ]
  },
  {
   "cell_type": "markdown",
   "metadata": {},
   "source": [
    "Let Santa notify participants\n",
    "> Oh Oh Oh!"
   ]
  },
  {
   "cell_type": "markdown",
   "metadata": {},
   "source": [
    "Enter the credentials of a valid email address to send e-mails from. You will have to (temporarily) [allow less secure apps](https://myaccount.google.com/lesssecureapps)."
   ]
  },
  {
   "cell_type": "code",
   "execution_count": null,
   "metadata": {},
   "outputs": [],
   "source": [
    "smtpserverwithport = 'smtp.gmail.com:587'\n",
    "sender = 'riccardo.porreca@mirai-solutions.com'\n",
    "pwd = getpass.getpass()"
   ]
  },
  {
   "cell_type": "markdown",
   "metadata": {},
   "source": [
    "Send e-mails"
   ]
  },
  {
   "cell_type": "code",
   "execution_count": null,
   "metadata": {},
   "outputs": [],
   "source": [
    "if (not dry_run):\n",
    "    proceed = input('This is not a dry run, are you sure (y/[n])?') == 'y'\n",
    "if (dry_run or proceed):\n",
    "    print('sending emails...')\n",
    "    check = santa.send_santa_dict(smtpserverwithport, sender, pwd, assignments, test = dry_run)\n",
    "    print('...Oh Oh Oh!')\n",
    "else:\n",
    "    print('e-mails NOT sent!')"
   ]
  },
  {
   "cell_type": "code",
   "execution_count": null,
   "metadata": {},
   "outputs": [],
   "source": []
  }
 ],
 "metadata": {
  "kernelspec": {
   "display_name": "Python 3",
   "language": "python",
   "name": "python3"
  },
  "language_info": {
   "codemirror_mode": {
    "name": "ipython",
    "version": 3
   },
   "file_extension": ".py",
   "mimetype": "text/x-python",
   "name": "python",
   "nbconvert_exporter": "python",
   "pygments_lexer": "ipython3",
   "version": "3.6.6"
  }
 },
 "nbformat": 4,
 "nbformat_minor": 2
}
