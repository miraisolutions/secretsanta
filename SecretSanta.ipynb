{
 "cells": [
  {
   "cell_type": "markdown",
   "metadata": {},
   "source": [
    "# SecretSanta"
   ]
  },
  {
   "cell_type": "markdown",
   "metadata": {},
   "source": [
    "Disable **auto-save** of Jupyter notebook"
   ]
  },
  {
   "cell_type": "code",
   "execution_count": null,
   "metadata": {},
   "outputs": [],
   "source": [
    "%%javascript\n",
    "Jupyter.notebook.set_autosave_interval(0);"
   ]
  },
  {
   "cell_type": "markdown",
   "metadata": {},
   "source": [
    "Import the relevant `secretsanta` dependencies"
   ]
  },
  {
   "cell_type": "code",
   "execution_count": null,
   "metadata": {},
   "outputs": [],
   "source": [
    "import secretsanta.main.funs as santa\n",
    "# below is used as part of this notebook\n",
    "import getpass"
   ]
  },
  {
   "cell_type": "markdown",
   "metadata": {},
   "source": [
    "Define whether this is a test run / demo or the actual final assignment - emails will be sent in any case:"
   ]
  },
  {
   "cell_type": "code",
   "execution_count": null,
   "metadata": {},
   "outputs": [],
   "source": [
    "test_run = True"
   ]
  },
  {
   "cell_type": "markdown",
   "metadata": {},
   "source": [
    "Define a dictionary of names and corresponding email addresses of Secret Santa participants"
   ]
  },
  {
   "cell_type": "code",
   "execution_count": null,
   "metadata": {},
   "outputs": [],
   "source": [
    "participants = {\n",
    "    'Jane': 'jane.smith',\n",
    "    'John': 'john.doe',\n",
    "    'Bob': 'robert.lambda'\n",
    "}\n",
    "for name in participants.keys() :\n",
    "    participants[name] += '@acme-example.com'\n",
    "print(participants)"
   ]
  },
  {
   "cell_type": "markdown",
   "metadata": {},
   "source": [
    "Let Santa make random assignments\n",
    "> Ho Ho Ho!"
   ]
  },
  {
   "cell_type": "code",
   "execution_count": null,
   "metadata": {},
   "outputs": [],
   "source": [
    "# `seed` fixed for reproducibility in test-run, should be fully random otherwise\n",
    "assignments = santa.make_santa_dict(participants, seed=666 if test_run else None)\n",
    "# keep it secret if not a test run\n",
    "if test_run:\n",
    "    print(assignments)"
   ]
  },
  {
   "cell_type": "markdown",
   "metadata": {},
   "source": [
    "Let Santa notify participants\n",
    "> Ho Ho Ho!"
   ]
  },
  {
   "cell_type": "markdown",
   "metadata": {},
   "source": [
    "Enter the credentials of a valid email address and associated SMTP server to send e-mails from. If using Gmail, you will have to (temporarily) [allow less secure apps](https://myaccount.google.com/lesssecureapps)."
   ]
  },
  {
   "cell_type": "code",
   "execution_count": null,
   "metadata": {},
   "outputs": [],
   "source": [
    "smtpserverwithport = 'smtp.gmail.com:587'\n",
    "sender = 'santa.claus@acme-example.com'\n",
    "pwd = getpass.getpass()"
   ]
  },
  {
   "cell_type": "markdown",
   "metadata": {},
   "source": [
    "Send e-mails"
   ]
  },
  {
   "cell_type": "code",
   "execution_count": null,
   "metadata": {},
   "outputs": [],
   "source": [
    "if (not test_run):\n",
    "    proceed = input('This is not a test run, are you sure (y/[n])?') == 'y'\n",
    "if (test_run or proceed):\n",
    "    print('sending emails...')\n",
    "    check = santa.send_santa_dict(smtpserverwithport, sender, pwd, assignments, test=test_run)\n",
    "    print('...Ho Ho Ho!')\n",
    "else:\n",
    "    print('e-mails have not been sent!')"
   ]
  },
  {
   "cell_type": "code",
   "execution_count": null,
   "metadata": {},
   "outputs": [],
   "source": []
  }
 ],
 "metadata": {
  "kernelspec": {
   "display_name": "Python 3",
   "language": "python",
   "name": "python3"
  },
  "language_info": {
   "codemirror_mode": {
    "name": "ipython",
    "version": 3
   },
   "file_extension": ".py",
   "mimetype": "text/x-python",
   "name": "python",
   "nbconvert_exporter": "python",
   "pygments_lexer": "ipython3",
   "version": "3.6.8"
  }
 },
 "nbformat": 4,
 "nbformat_minor": 2
}
